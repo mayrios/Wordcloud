{
 "cells": [
  {
   "cell_type": "code",
   "execution_count": 7,
   "metadata": {},
   "outputs": [],
   "source": [
    "#importar os pacotes necessários\n",
    "import pandas as pd\n",
    "import matplotlib.pyplot as plt\n",
    "from PIL import Image\n",
    "from wordcloud import WordCloud, STOPWORDS, ImageColorGenerator\n"
   ]
  },
  {
   "cell_type": "code",
   "execution_count": 26,
   "metadata": {
    "scrolled": false
   },
   "outputs": [],
   "source": [
    "#importar um CSV em um Dataframe\n",
    "df = pd.read_csv(\"base_mongodb.csv\")"
   ]
  },
  {
   "cell_type": "code",
   "execution_count": 27,
   "metadata": {},
   "outputs": [
    {
     "data": {
      "text/html": [
       "<div>\n",
       "<style scoped>\n",
       "    .dataframe tbody tr th:only-of-type {\n",
       "        vertical-align: middle;\n",
       "    }\n",
       "\n",
       "    .dataframe tbody tr th {\n",
       "        vertical-align: top;\n",
       "    }\n",
       "\n",
       "    .dataframe thead th {\n",
       "        text-align: right;\n",
       "    }\n",
       "</style>\n",
       "<table border=\"1\" class=\"dataframe\">\n",
       "  <thead>\n",
       "    <tr style=\"text-align: right;\">\n",
       "      <th></th>\n",
       "      <th>Titulo</th>\n",
       "      <th>Reclamação</th>\n",
       "      <th>Status</th>\n",
       "      <th>Data</th>\n",
       "      <th>Localidade</th>\n",
       "    </tr>\n",
       "  </thead>\n",
       "  <tbody>\n",
       "    <tr>\n",
       "      <th>0</th>\n",
       "      <td>Mudança de plano</td>\n",
       "      <td>Boa noite ! Há mais ou menos 2 meses atrás ti...</td>\n",
       "      <td>Não respondida</td>\n",
       "      <td>29/10/2019</td>\n",
       "      <td>São João da Boa Vista</td>\n",
       "    </tr>\n",
       "    <tr>\n",
       "      <th>1</th>\n",
       "      <td>Serviço Técnico nao realizado</td>\n",
       "      <td>#vivoSai do trabalho as 15:30.Perdi um períod...</td>\n",
       "      <td>Não respondida</td>\n",
       "      <td>29/10/2019</td>\n",
       "      <td>São Paulo</td>\n",
       "    </tr>\n",
       "    <tr>\n",
       "      <th>2</th>\n",
       "      <td>Cobrança indevida</td>\n",
       "      <td>Solicitei a devolução do valor de R$39,99 ref...</td>\n",
       "      <td>Não respondida</td>\n",
       "      <td>29/10/2019</td>\n",
       "      <td>Não identificado</td>\n",
       "    </tr>\n",
       "    <tr>\n",
       "      <th>3</th>\n",
       "      <td>Estou sendo explorado e furtado pelo VIVO</td>\n",
       "      <td>No mês de junho meu plano expirou-se em menos...</td>\n",
       "      <td>Não respondida</td>\n",
       "      <td>29/10/2019</td>\n",
       "      <td>Pirapora do Bom Jesus</td>\n",
       "    </tr>\n",
       "    <tr>\n",
       "      <th>4</th>\n",
       "      <td>Internet instável, sinal horrível, vive caindo</td>\n",
       "      <td>A muito tempo a internet de casa vive caindo ...</td>\n",
       "      <td>Não respondida</td>\n",
       "      <td>29/10/2019</td>\n",
       "      <td>São Paulo</td>\n",
       "    </tr>\n",
       "    <tr>\n",
       "      <th>5</th>\n",
       "      <td>NOME NEGATIVADO INDEVIDAMENTE</td>\n",
       "      <td>Me chamo Camila e recentemente fiz uma consul...</td>\n",
       "      <td>Não respondida</td>\n",
       "      <td>29/10/2019</td>\n",
       "      <td>São Caetano do Sul</td>\n",
       "    </tr>\n",
       "    <tr>\n",
       "      <th>6</th>\n",
       "      <td>DESCASO, MENTIRA E DESORGANIZAÇÃO</td>\n",
       "      <td>ME CHAMO ANDRESA BASILIO,DESCASO, MENTIRA E D...</td>\n",
       "      <td>Não respondida</td>\n",
       "      <td>29/10/2019</td>\n",
       "      <td>São Paulo</td>\n",
       "    </tr>\n",
       "    <tr>\n",
       "      <th>7</th>\n",
       "      <td>Pagamento efetuado e nao registrado</td>\n",
       "      <td>No dia 09/10 fiz o pagamento de 3 debitos rel...</td>\n",
       "      <td>Não respondida</td>\n",
       "      <td>29/10/2019</td>\n",
       "      <td>Goiânia</td>\n",
       "    </tr>\n",
       "    <tr>\n",
       "      <th>8</th>\n",
       "      <td>dedução indevida de diárias Vivo Easy</td>\n",
       "      <td>Primeiramente gostaria de dizer que, a idéia ...</td>\n",
       "      <td>Não respondida</td>\n",
       "      <td>29/10/2019</td>\n",
       "      <td>Itapevi</td>\n",
       "    </tr>\n",
       "    <tr>\n",
       "      <th>9</th>\n",
       "      <td>Devolução</td>\n",
       "      <td>Fui na loja da vivo fui atendido pela atenden...</td>\n",
       "      <td>Não respondida</td>\n",
       "      <td>29/10/2019</td>\n",
       "      <td>São Paulo</td>\n",
       "    </tr>\n",
       "  </tbody>\n",
       "</table>\n",
       "</div>"
      ],
      "text/plain": [
       "                                           Titulo  \\\n",
       "0                                Mudança de plano   \n",
       "1                   Serviço Técnico nao realizado   \n",
       "2                              Cobrança indevida    \n",
       "3       Estou sendo explorado e furtado pelo VIVO   \n",
       "4  Internet instável, sinal horrível, vive caindo   \n",
       "5                   NOME NEGATIVADO INDEVIDAMENTE   \n",
       "6               DESCASO, MENTIRA E DESORGANIZAÇÃO   \n",
       "7             Pagamento efetuado e nao registrado   \n",
       "8           dedução indevida de diárias Vivo Easy   \n",
       "9                                      Devolução    \n",
       "\n",
       "                                          Reclamação          Status  \\\n",
       "0   Boa noite ! Há mais ou menos 2 meses atrás ti...  Não respondida   \n",
       "1   #vivoSai do trabalho as 15:30.Perdi um períod...  Não respondida   \n",
       "2   Solicitei a devolução do valor de R$39,99 ref...  Não respondida   \n",
       "3   No mês de junho meu plano expirou-se em menos...  Não respondida   \n",
       "4   A muito tempo a internet de casa vive caindo ...  Não respondida   \n",
       "5   Me chamo Camila e recentemente fiz uma consul...  Não respondida   \n",
       "6   ME CHAMO ANDRESA BASILIO,DESCASO, MENTIRA E D...  Não respondida   \n",
       "7   No dia 09/10 fiz o pagamento de 3 debitos rel...  Não respondida   \n",
       "8   Primeiramente gostaria de dizer que, a idéia ...  Não respondida   \n",
       "9   Fui na loja da vivo fui atendido pela atenden...  Não respondida   \n",
       "\n",
       "         Data               Localidade  \n",
       "0  29/10/2019   São João da Boa Vista   \n",
       "1  29/10/2019               São Paulo   \n",
       "2  29/10/2019         Não identificado  \n",
       "3  29/10/2019   Pirapora do Bom Jesus   \n",
       "4  29/10/2019               São Paulo   \n",
       "5  29/10/2019      São Caetano do Sul   \n",
       "6  29/10/2019               São Paulo   \n",
       "7  29/10/2019                 Goiânia   \n",
       "8  29/10/2019                 Itapevi   \n",
       "9  29/10/2019               São Paulo   "
      ]
     },
     "execution_count": 27,
     "metadata": {},
     "output_type": "execute_result"
    }
   ],
   "source": [
    "df.head(10)"
   ]
  },
  {
   "cell_type": "code",
   "execution_count": 28,
   "metadata": {},
   "outputs": [
    {
     "data": {
      "text/plain": [
       "Titulo        object\n",
       "Reclamação    object\n",
       "Status        object\n",
       "Data          object\n",
       "Localidade    object\n",
       "dtype: object"
      ]
     },
     "execution_count": 28,
     "metadata": {},
     "output_type": "execute_result"
    }
   ],
   "source": [
    "df.dtypes"
   ]
  },
  {
   "cell_type": "code",
   "execution_count": 29,
   "metadata": {},
   "outputs": [
    {
     "data": {
      "text/plain": [
       "count                                                  1080\n",
       "unique                                                  981\n",
       "top        Já entrei em contato várias vezes solicitando...\n",
       "freq                                                      4\n",
       "Name: Reclamação, dtype: object"
      ]
     },
     "execution_count": 29,
     "metadata": {},
     "output_type": "execute_result"
    }
   ],
   "source": [
    "df.Reclamação.describe()"
   ]
  },
  {
   "cell_type": "code",
   "execution_count": 30,
   "metadata": {},
   "outputs": [],
   "source": [
    "#separei apenas a séries de Reclamações\n",
    "reclamacao = df['Reclamação']"
   ]
  },
  {
   "cell_type": "code",
   "execution_count": 31,
   "metadata": {},
   "outputs": [
    {
     "data": {
      "text/plain": [
       "' A vivo ligou para a casa da minha tia, que é uma pessoa idosa, informando que haviam solicitado o cancelamento de sua ... '"
      ]
     },
     "metadata": {},
     "output_type": "display_data"
    }
   ],
   "source": [
    "display(reclamacao.iloc[100])"
   ]
  },
  {
   "cell_type": "code",
   "execution_count": 32,
   "metadata": {},
   "outputs": [],
   "source": [
    "#Concatenar as palavras\n",
    "all_reclamacoes = \" \".join(sentenca for sentenca in reclamacao)"
   ]
  },
  {
   "cell_type": "code",
   "execution_count": 33,
   "metadata": {},
   "outputs": [
    {
     "name": "stdout",
     "output_type": "stream",
     "text": [
      "Quantidade: 129753\n"
     ]
    }
   ],
   "source": [
    "#Ver quantidade de palavras\n",
    "print(f\"Quantidade: {len(all_reclamacoes)}\")"
   ]
  },
  {
   "cell_type": "code",
   "execution_count": 35,
   "metadata": {},
   "outputs": [],
   "source": [
    "#lista de stopwords\n",
    "stopwords = set(STOPWORDS)\n",
    "stopwords.update([\"da\", \"meu\", \"já\", \"os\", \"o\", \"em\", \"de\", \"ao\", \"a\", \"as\", \"no\", \"na\", \"boa\", \"bom\", \"dia\", \"noite\", \"tarde\"])\n",
    "\n",
    "#gerar a wordcloud\n",
    "wordcloud = WordCloud(stopwords=stopwords,\n",
    "                     background_color=\"gray\",\n",
    "                     width=1600, height=800).generate(all_reclamacoes)\n",
    "\n",
    "#mostrar a imagem final\n",
    "fig, ax = plt.subplots(figsize=(10,6))\n",
    "ax.imshow(wordcloud, interpolation='bilinear')\n",
    "ax.set_axis_off()\n",
    "\n",
    "plt.imshow(wordcloud);\n",
    "wordcloud.to_file(\"nuvem_palavras_reclameaqui.jpeg\")"
   ]
  },
  {
   "cell_type": "code",
   "execution_count": null,
   "metadata": {},
   "outputs": [],
   "source": []
  }
 ],
 "metadata": {
  "kernelspec": {
   "display_name": "Python 3",
   "language": "python",
   "name": "python3"
  },
  "language_info": {
   "codemirror_mode": {
    "name": "ipython",
    "version": 3
   },
   "file_extension": ".py",
   "mimetype": "text/x-python",
   "name": "python",
   "nbconvert_exporter": "python",
   "pygments_lexer": "ipython3",
   "version": "3.7.1"
  }
 },
 "nbformat": 4,
 "nbformat_minor": 2
}
